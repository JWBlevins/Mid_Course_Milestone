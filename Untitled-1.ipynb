{
 "cells": [
  {
   "cell_type": "code",
   "execution_count": 1,
   "id": "907252d4",
   "metadata": {},
   "outputs": [],
   "source": [
    "import pandas as pd\n",
    "import matplotlib.pyplot as plt\n",
    "import seaborn as sns"
   ]
  },
  {
   "cell_type": "code",
   "execution_count": 6,
   "id": "d0b71f5e",
   "metadata": {},
   "outputs": [
    {
     "data": {
      "application/vnd.microsoft.datawrangler.viewer.v0+json": {
       "columns": [
        {
         "name": "index",
         "rawType": "int64",
         "type": "integer"
        },
        {
         "name": "Order_ID",
         "rawType": "object",
         "type": "string"
        },
        {
         "name": "Agent_Age",
         "rawType": "int64",
         "type": "integer"
        },
        {
         "name": "Agent_Rating",
         "rawType": "float64",
         "type": "float"
        },
        {
         "name": "Store_Latitude",
         "rawType": "float64",
         "type": "float"
        },
        {
         "name": "Store_Longitude",
         "rawType": "float64",
         "type": "float"
        },
        {
         "name": "Drop_Latitude",
         "rawType": "float64",
         "type": "float"
        },
        {
         "name": "Drop_Longitude",
         "rawType": "float64",
         "type": "float"
        },
        {
         "name": "Order_Date",
         "rawType": "object",
         "type": "string"
        },
        {
         "name": "Order_Time",
         "rawType": "object",
         "type": "string"
        },
        {
         "name": "Pickup_Time",
         "rawType": "object",
         "type": "string"
        },
        {
         "name": "Weather",
         "rawType": "object",
         "type": "string"
        },
        {
         "name": "Traffic",
         "rawType": "object",
         "type": "string"
        },
        {
         "name": "Vehicle",
         "rawType": "object",
         "type": "string"
        },
        {
         "name": "Area",
         "rawType": "object",
         "type": "string"
        },
        {
         "name": "Delivery_Time",
         "rawType": "int64",
         "type": "integer"
        },
        {
         "name": "Category",
         "rawType": "object",
         "type": "string"
        }
       ],
       "ref": "2cae1a8a-ad19-4e6e-9dfb-7f543a699b53",
       "rows": [
        [
         "0",
         "ialx566343618",
         "37",
         "4.9",
         "22.745049",
         "75.892471",
         "22.765049",
         "75.912471",
         "2022-03-19",
         "11:30:00",
         "11:45:00",
         "Sunny",
         "High ",
         "motorcycle ",
         "Urban ",
         "120",
         "Clothing"
        ],
        [
         "1",
         "akqg208421122",
         "34",
         "4.5",
         "12.913041",
         "77.683237",
         "13.043041",
         "77.813237",
         "2022-03-25",
         "19:45:00",
         "19:50:00",
         "Stormy",
         "Jam ",
         "scooter ",
         "Metropolitian ",
         "165",
         "Electronics"
        ],
        [
         "2",
         "njpu434582536",
         "23",
         "4.4",
         "12.914264",
         "77.6784",
         "12.924264",
         "77.6884",
         "2022-03-19",
         "08:30:00",
         "08:45:00",
         "Sandstorms",
         "Low ",
         "motorcycle ",
         "Urban ",
         "130",
         "Sports"
        ],
        [
         "3",
         "rjto796129700",
         "38",
         "4.7",
         "11.003669",
         "76.976494",
         "11.053669",
         "77.026494",
         "2022-04-05",
         "18:00:00",
         "18:10:00",
         "Sunny",
         "Medium ",
         "motorcycle ",
         "Metropolitian ",
         "105",
         "Cosmetics"
        ],
        [
         "4",
         "zguw716275638",
         "32",
         "4.6",
         "12.972793",
         "80.249982",
         "13.012793",
         "80.289982",
         "2022-03-26",
         "13:30:00",
         "13:45:00",
         "Cloudy",
         "High ",
         "scooter ",
         "Metropolitian ",
         "150",
         "Toys"
        ]
       ],
       "shape": {
        "columns": 16,
        "rows": 5
       }
      },
      "text/html": [
       "<div>\n",
       "<style scoped>\n",
       "    .dataframe tbody tr th:only-of-type {\n",
       "        vertical-align: middle;\n",
       "    }\n",
       "\n",
       "    .dataframe tbody tr th {\n",
       "        vertical-align: top;\n",
       "    }\n",
       "\n",
       "    .dataframe thead th {\n",
       "        text-align: right;\n",
       "    }\n",
       "</style>\n",
       "<table border=\"1\" class=\"dataframe\">\n",
       "  <thead>\n",
       "    <tr style=\"text-align: right;\">\n",
       "      <th></th>\n",
       "      <th>Order_ID</th>\n",
       "      <th>Agent_Age</th>\n",
       "      <th>Agent_Rating</th>\n",
       "      <th>Store_Latitude</th>\n",
       "      <th>Store_Longitude</th>\n",
       "      <th>Drop_Latitude</th>\n",
       "      <th>Drop_Longitude</th>\n",
       "      <th>Order_Date</th>\n",
       "      <th>Order_Time</th>\n",
       "      <th>Pickup_Time</th>\n",
       "      <th>Weather</th>\n",
       "      <th>Traffic</th>\n",
       "      <th>Vehicle</th>\n",
       "      <th>Area</th>\n",
       "      <th>Delivery_Time</th>\n",
       "      <th>Category</th>\n",
       "    </tr>\n",
       "  </thead>\n",
       "  <tbody>\n",
       "    <tr>\n",
       "      <th>0</th>\n",
       "      <td>ialx566343618</td>\n",
       "      <td>37</td>\n",
       "      <td>4.9</td>\n",
       "      <td>22.745049</td>\n",
       "      <td>75.892471</td>\n",
       "      <td>22.765049</td>\n",
       "      <td>75.912471</td>\n",
       "      <td>2022-03-19</td>\n",
       "      <td>11:30:00</td>\n",
       "      <td>11:45:00</td>\n",
       "      <td>Sunny</td>\n",
       "      <td>High</td>\n",
       "      <td>motorcycle</td>\n",
       "      <td>Urban</td>\n",
       "      <td>120</td>\n",
       "      <td>Clothing</td>\n",
       "    </tr>\n",
       "    <tr>\n",
       "      <th>1</th>\n",
       "      <td>akqg208421122</td>\n",
       "      <td>34</td>\n",
       "      <td>4.5</td>\n",
       "      <td>12.913041</td>\n",
       "      <td>77.683237</td>\n",
       "      <td>13.043041</td>\n",
       "      <td>77.813237</td>\n",
       "      <td>2022-03-25</td>\n",
       "      <td>19:45:00</td>\n",
       "      <td>19:50:00</td>\n",
       "      <td>Stormy</td>\n",
       "      <td>Jam</td>\n",
       "      <td>scooter</td>\n",
       "      <td>Metropolitian</td>\n",
       "      <td>165</td>\n",
       "      <td>Electronics</td>\n",
       "    </tr>\n",
       "    <tr>\n",
       "      <th>2</th>\n",
       "      <td>njpu434582536</td>\n",
       "      <td>23</td>\n",
       "      <td>4.4</td>\n",
       "      <td>12.914264</td>\n",
       "      <td>77.678400</td>\n",
       "      <td>12.924264</td>\n",
       "      <td>77.688400</td>\n",
       "      <td>2022-03-19</td>\n",
       "      <td>08:30:00</td>\n",
       "      <td>08:45:00</td>\n",
       "      <td>Sandstorms</td>\n",
       "      <td>Low</td>\n",
       "      <td>motorcycle</td>\n",
       "      <td>Urban</td>\n",
       "      <td>130</td>\n",
       "      <td>Sports</td>\n",
       "    </tr>\n",
       "    <tr>\n",
       "      <th>3</th>\n",
       "      <td>rjto796129700</td>\n",
       "      <td>38</td>\n",
       "      <td>4.7</td>\n",
       "      <td>11.003669</td>\n",
       "      <td>76.976494</td>\n",
       "      <td>11.053669</td>\n",
       "      <td>77.026494</td>\n",
       "      <td>2022-04-05</td>\n",
       "      <td>18:00:00</td>\n",
       "      <td>18:10:00</td>\n",
       "      <td>Sunny</td>\n",
       "      <td>Medium</td>\n",
       "      <td>motorcycle</td>\n",
       "      <td>Metropolitian</td>\n",
       "      <td>105</td>\n",
       "      <td>Cosmetics</td>\n",
       "    </tr>\n",
       "    <tr>\n",
       "      <th>4</th>\n",
       "      <td>zguw716275638</td>\n",
       "      <td>32</td>\n",
       "      <td>4.6</td>\n",
       "      <td>12.972793</td>\n",
       "      <td>80.249982</td>\n",
       "      <td>13.012793</td>\n",
       "      <td>80.289982</td>\n",
       "      <td>2022-03-26</td>\n",
       "      <td>13:30:00</td>\n",
       "      <td>13:45:00</td>\n",
       "      <td>Cloudy</td>\n",
       "      <td>High</td>\n",
       "      <td>scooter</td>\n",
       "      <td>Metropolitian</td>\n",
       "      <td>150</td>\n",
       "      <td>Toys</td>\n",
       "    </tr>\n",
       "  </tbody>\n",
       "</table>\n",
       "</div>"
      ],
      "text/plain": [
       "        Order_ID  Agent_Age  Agent_Rating  Store_Latitude  Store_Longitude  \\\n",
       "0  ialx566343618         37           4.9       22.745049        75.892471   \n",
       "1  akqg208421122         34           4.5       12.913041        77.683237   \n",
       "2  njpu434582536         23           4.4       12.914264        77.678400   \n",
       "3  rjto796129700         38           4.7       11.003669        76.976494   \n",
       "4  zguw716275638         32           4.6       12.972793        80.249982   \n",
       "\n",
       "   Drop_Latitude  Drop_Longitude  Order_Date Order_Time Pickup_Time  \\\n",
       "0      22.765049       75.912471  2022-03-19   11:30:00    11:45:00   \n",
       "1      13.043041       77.813237  2022-03-25   19:45:00    19:50:00   \n",
       "2      12.924264       77.688400  2022-03-19   08:30:00    08:45:00   \n",
       "3      11.053669       77.026494  2022-04-05   18:00:00    18:10:00   \n",
       "4      13.012793       80.289982  2022-03-26   13:30:00    13:45:00   \n",
       "\n",
       "      Weather  Traffic      Vehicle            Area  Delivery_Time  \\\n",
       "0       Sunny    High   motorcycle           Urban             120   \n",
       "1      Stormy     Jam      scooter   Metropolitian             165   \n",
       "2  Sandstorms     Low   motorcycle           Urban             130   \n",
       "3       Sunny  Medium   motorcycle   Metropolitian             105   \n",
       "4      Cloudy    High      scooter   Metropolitian             150   \n",
       "\n",
       "      Category  \n",
       "0     Clothing  \n",
       "1  Electronics  \n",
       "2       Sports  \n",
       "3    Cosmetics  \n",
       "4         Toys  "
      ]
     },
     "execution_count": 6,
     "metadata": {},
     "output_type": "execute_result"
    }
   ],
   "source": [
    "df = pd.read_csv(r\"C:\\Users\\jblev\\Mid_Course_Milestone\\data\\amazon_delivery.csv\")\n",
    "df.head()"
   ]
  }
 ],
 "metadata": {
  "kernelspec": {
   "display_name": "Python 3",
   "language": "python",
   "name": "python3"
  },
  "language_info": {
   "codemirror_mode": {
    "name": "ipython",
    "version": 3
   },
   "file_extension": ".py",
   "mimetype": "text/x-python",
   "name": "python",
   "nbconvert_exporter": "python",
   "pygments_lexer": "ipython3",
   "version": "3.13.5"
  }
 },
 "nbformat": 4,
 "nbformat_minor": 5
}
